{
 "cells": [
  {
   "cell_type": "code",
   "execution_count": 35,
   "metadata": {},
   "outputs": [
    {
     "name": "stdout",
     "output_type": "stream",
     "text": [
      "1 briefje(s) van 100\n",
      "1 briefje(s) van 50\n",
      "0 briefje(s) van 20\n",
      "1 briefje(s) van 10\n",
      "0 briefje(s) van 5\n",
      "1 stuk(ken) van 2\n",
      "1 stuk(ken) van 1\n"
     ]
    }
   ],
   "source": [
    "Bedrag = int(input(\"Vul hier uw bedrag in:\"))\n",
    "a = 100\n",
    "b = 50\n",
    "c = 20\n",
    "d = 10\n",
    "e = 5\n",
    "f = 2\n",
    "g = 1\n",
    "\n",
    "antwoord = Bedrag // a\n",
    "rest = Bedrag % a\n",
    "antwoord_1 =rest // b\n",
    "rest = (rest % b)\n",
    "antwoord_2 = rest // c\n",
    "rest = (rest % c)\n",
    "antwoord_3 = rest // d\n",
    "rest = (rest % d)\n",
    "antwoord_4 = rest // e\n",
    "rest = (rest % e)\n",
    "antwoord_5 = rest // f\n",
    "rest = (rest % f)\n",
    "antwoord_6 = rest // g\n",
    "\n",
    "print(antwoord, \"briefje(s) van\", a)\n",
    "print(antwoord_1, \"briefje(s) van\", b)\n",
    "print(antwoord_2, \"briefje(s) van\", c)\n",
    "print(antwoord_3, \"briefje(s) van\", d)\n",
    "print(antwoord_4, \"briefje(s) van\", e)\n",
    "print(antwoord_5, \"stuk(ken) van\", f)\n",
    "print(antwoord_6, \"stuk(ken) van\", g)"
   ]
  }
 ],
 "metadata": {
  "interpreter": {
   "hash": "04be0b2c051b0b0275afc077ab8a1a3e34a745d8b365f41cfda62de07cdcc075"
  },
  "kernelspec": {
   "display_name": "Python 3.10.0 64-bit",
   "language": "python",
   "name": "python3"
  },
  "language_info": {
   "codemirror_mode": {
    "name": "ipython",
    "version": 3
   },
   "file_extension": ".py",
   "mimetype": "text/x-python",
   "name": "python",
   "nbconvert_exporter": "python",
   "pygments_lexer": "ipython3",
   "version": "3.10.0"
  },
  "orig_nbformat": 4
 },
 "nbformat": 4,
 "nbformat_minor": 2
}
