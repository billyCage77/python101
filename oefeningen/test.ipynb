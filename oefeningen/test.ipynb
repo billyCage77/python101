{
 "cells": [
  {
   "cell_type": "code",
   "execution_count": 17,
   "metadata": {},
   "outputs": [
    {
     "name": "stdout",
     "output_type": "stream",
     "text": [
      "ik heb twee appels en een banaan\n"
     ]
    }
   ],
   "source": [
    "print(\"ik\", \"heb\", \"twee\", \"appels\", \"en\", \"een\", \"banaan\")"
   ]
  },
  {
   "cell_type": "code",
   "execution_count": 18,
   "metadata": {},
   "outputs": [
    {
     "name": "stdout",
     "output_type": "stream",
     "text": [
      "ik:heb:2:appels:en:1:banaan\n"
     ]
    }
   ],
   "source": [
    "print(\"ik\", \"heb\", 2, \"appels\", \"en\", 1, \"banaan\", sep=\":\" )"
   ]
  },
  {
   "cell_type": "code",
   "execution_count": 23,
   "metadata": {},
   "outputs": [
    {
     "name": "stdout",
     "output_type": "stream",
     "text": [
      "ik heb 1 banaan, 2 appels"
     ]
    }
   ],
   "source": [
    "print(\"ik\", \"heb\", 1, \"banaan\", end=\", \")\n",
    "print( 2, \"appels\", end=\"\" )"
   ]
  }
 ],
 "metadata": {
  "interpreter": {
   "hash": "04be0b2c051b0b0275afc077ab8a1a3e34a745d8b365f41cfda62de07cdcc075"
  },
  "kernelspec": {
   "display_name": "Python 3.10.0 64-bit",
   "language": "python",
   "name": "python3"
  },
  "language_info": {
   "codemirror_mode": {
    "name": "ipython",
    "version": 3
   },
   "file_extension": ".py",
   "mimetype": "text/x-python",
   "name": "python",
   "nbconvert_exporter": "python",
   "pygments_lexer": "ipython3",
   "version": "3.10.0"
  },
  "orig_nbformat": 4
 },
 "nbformat": 4,
 "nbformat_minor": 2
}
