{
 "cells": [
  {
   "cell_type": "code",
   "execution_count": 8,
   "metadata": {},
   "outputs": [
    {
     "name": "stdout",
     "output_type": "stream",
     "text": [
      "50° Fahrenheit is 10.0° Celcius\n",
      "30° Celcius is 86.0° Fahrenheit\n"
     ]
    }
   ],
   "source": [
    "a=50\n",
    "b=30\n",
    "c=(a-32)/1.8\n",
    "d=(b*1.8)+32\n",
    "print(str(a) + \"° Fahrenheit\", \"is\", str(c) + \"° Celcius\")\n",
    "print(str(b) + \"° Celcius\", \"is\", str(d) + \"° Fahrenheit\")"
   ]
  }
 ],
 "metadata": {
  "interpreter": {
   "hash": "04be0b2c051b0b0275afc077ab8a1a3e34a745d8b365f41cfda62de07cdcc075"
  },
  "kernelspec": {
   "display_name": "Python 3.10.0 64-bit",
   "language": "python",
   "name": "python3"
  },
  "language_info": {
   "codemirror_mode": {
    "name": "ipython",
    "version": 3
   },
   "file_extension": ".py",
   "mimetype": "text/x-python",
   "name": "python",
   "nbconvert_exporter": "python",
   "pygments_lexer": "ipython3",
   "version": "3.10.0"
  },
  "orig_nbformat": 4
 },
 "nbformat": 4,
 "nbformat_minor": 2
}
